{
 "cells": [
  {
   "cell_type": "code",
   "execution_count": 1,
   "metadata": {},
   "outputs": [],
   "source": [
    "#img recognition (binary classification problem)-CNN(Convolutional neural network)\n",
    "#1st-full_connection: relu\n",
    "#output layer: sigmoid"
   ]
  },
  {
   "cell_type": "code",
   "execution_count": 2,
   "metadata": {},
   "outputs": [],
   "source": [
    "#import the libraries"
   ]
  },
  {
   "cell_type": "code",
   "execution_count": 3,
   "metadata": {},
   "outputs": [],
   "source": [
    "import tensorflow as tf\n",
    "from keras.preprocessing.image import ImageDataGenerator"
   ]
  },
  {
   "cell_type": "code",
   "execution_count": 4,
   "metadata": {},
   "outputs": [],
   "source": [
    "#----------data processing "
   ]
  },
  {
   "cell_type": "code",
   "execution_count": 5,
   "metadata": {},
   "outputs": [
    {
     "name": "stdout",
     "output_type": "stream",
     "text": [
      "Found 8000 images belonging to 2 classes.\n"
     ]
    }
   ],
   "source": [
    "#processing the TRAINING set \n",
    "#1. generaete the traing_data\n",
    "train_data_generator = ImageDataGenerator(rescale = 1./255,\n",
    "                                          shear_range = 0.2,\n",
    "                                          zoom_range = 0.2,\n",
    "                                          horizontal_flip = True)\n",
    "#2. import the training img_set(target_size, batch...)\n",
    "training_set = train_data_generator.flow_from_directory('dataset/training_set',\n",
    "                                                         target_size = (64, 64),\n",
    "                                                         batch_size = 32,\n",
    "                                                         class_mode = 'binary')"
   ]
  },
  {
   "cell_type": "code",
   "execution_count": 6,
   "metadata": {},
   "outputs": [
    {
     "name": "stdout",
     "output_type": "stream",
     "text": [
      "Found 2000 images belonging to 2 classes.\n"
     ]
    }
   ],
   "source": [
    "#processing the TEST set \n",
    "#1. generaete the test_data\n",
    "test_data_generator = ImageDataGenerator(rescale = 1./255)\n",
    "#2. import the test img_set(target_size, batch...)\n",
    "test_set = test_data_generator.flow_from_directory('dataset/test_set',\n",
    "                                                         target_size = (64, 64),\n",
    "                                                         batch_size = 32,\n",
    "                                                         class_mode = 'binary')"
   ]
  },
  {
   "cell_type": "code",
   "execution_count": 7,
   "metadata": {},
   "outputs": [],
   "source": [
    "#----------building the model(CNN)"
   ]
  },
  {
   "cell_type": "code",
   "execution_count": 8,
   "metadata": {},
   "outputs": [],
   "source": [
    "#initializing CNN\n",
    "cnn = tf.keras.models.Sequential()"
   ]
  },
  {
   "cell_type": "code",
   "execution_count": 9,
   "metadata": {},
   "outputs": [],
   "source": [
    "#1st layer\n",
    "#1.convolution\n",
    "cnn.add(tf.keras.layers.Conv2D(filters=32, kernel_size=3, activation='relu', input_shape=[64, 64, 3]))\n",
    "#2.pooling\n",
    "cnn.add(tf.keras.layers.MaxPool2D(pool_size=2, strides=2))"
   ]
  },
  {
   "cell_type": "code",
   "execution_count": 10,
   "metadata": {},
   "outputs": [],
   "source": [
    "#2nd layer\n",
    "#1.convolution\n",
    "cnn.add(tf.keras.layers.Conv2D(filters=32, kernel_size=3, activation='relu'))\n",
    "#2.pooling\n",
    "cnn.add(tf.keras.layers.MaxPool2D(pool_size=2, strides=2))"
   ]
  },
  {
   "cell_type": "code",
   "execution_count": 11,
   "metadata": {},
   "outputs": [],
   "source": [
    "#flattening (make the data colum)\n",
    "cnn.add(tf.keras.layers.Flatten())"
   ]
  },
  {
   "cell_type": "code",
   "execution_count": 12,
   "metadata": {},
   "outputs": [],
   "source": [
    "#---neural network starts---"
   ]
  },
  {
   "cell_type": "code",
   "execution_count": 13,
   "metadata": {},
   "outputs": [],
   "source": [
    "#full connection(dense)\n",
    "cnn.add(tf.keras.layers.Dense(units=128, activation='relu'))"
   ]
  },
  {
   "cell_type": "code",
   "execution_count": 14,
   "metadata": {},
   "outputs": [],
   "source": [
    "#output layer(dense)\n",
    "cnn.add(tf.keras.layers.Dense(units=1, activation='sigmoid'))"
   ]
  },
  {
   "cell_type": "code",
   "execution_count": 15,
   "metadata": {},
   "outputs": [],
   "source": [
    "#----------training the model(CNN)"
   ]
  },
  {
   "cell_type": "code",
   "execution_count": 16,
   "metadata": {},
   "outputs": [],
   "source": [
    "#compiling CNN(optimizer, loss, metrics)\n",
    "cnn.compile(optimizer= 'adam', loss = 'binary_crossentropy', metrics = ['accuracy'])"
   ]
  },
  {
   "cell_type": "code",
   "execution_count": 17,
   "metadata": {},
   "outputs": [
    {
     "name": "stdout",
     "output_type": "stream",
     "text": [
      "Epoch 1/25\n",
      "250/250 [==============================] - 70s 280ms/step - loss: 0.6700 - accuracy: 0.5750 - val_loss: 0.6379 - val_accuracy: 0.6185\n",
      "Epoch 2/25\n",
      "250/250 [==============================] - 63s 254ms/step - loss: 0.6059 - accuracy: 0.6755 - val_loss: 0.5798 - val_accuracy: 0.6990\n",
      "Epoch 3/25\n",
      "250/250 [==============================] - 66s 264ms/step - loss: 0.5667 - accuracy: 0.7080 - val_loss: 0.5774 - val_accuracy: 0.7030\n",
      "Epoch 4/25\n",
      "250/250 [==============================] - 67s 269ms/step - loss: 0.5357 - accuracy: 0.7319 - val_loss: 0.5606 - val_accuracy: 0.7110\n",
      "Epoch 5/25\n",
      "250/250 [==============================] - 69s 274ms/step - loss: 0.5149 - accuracy: 0.7450 - val_loss: 0.4939 - val_accuracy: 0.7615\n",
      "Epoch 6/25\n",
      "250/250 [==============================] - 74s 295ms/step - loss: 0.4917 - accuracy: 0.7639 - val_loss: 0.4943 - val_accuracy: 0.7615\n",
      "Epoch 7/25\n",
      "250/250 [==============================] - 77s 308ms/step - loss: 0.4762 - accuracy: 0.7692 - val_loss: 0.5022 - val_accuracy: 0.7635\n",
      "Epoch 8/25\n",
      "250/250 [==============================] - 82s 329ms/step - loss: 0.4584 - accuracy: 0.7864 - val_loss: 0.4723 - val_accuracy: 0.7700\n",
      "Epoch 9/25\n",
      "250/250 [==============================] - 76s 303ms/step - loss: 0.4523 - accuracy: 0.7870 - val_loss: 0.4748 - val_accuracy: 0.7755\n",
      "Epoch 10/25\n",
      "250/250 [==============================] - 74s 297ms/step - loss: 0.4415 - accuracy: 0.7929 - val_loss: 0.4986 - val_accuracy: 0.7575\n",
      "Epoch 11/25\n",
      "250/250 [==============================] - 70s 282ms/step - loss: 0.4209 - accuracy: 0.8023 - val_loss: 0.4944 - val_accuracy: 0.7710\n",
      "Epoch 12/25\n",
      "250/250 [==============================] - 74s 295ms/step - loss: 0.4162 - accuracy: 0.8031 - val_loss: 0.4993 - val_accuracy: 0.7780\n",
      "Epoch 13/25\n",
      "250/250 [==============================] - 70s 281ms/step - loss: 0.4050 - accuracy: 0.8138 - val_loss: 0.4744 - val_accuracy: 0.7855\n",
      "Epoch 14/25\n",
      "250/250 [==============================] - 68s 271ms/step - loss: 0.3989 - accuracy: 0.8130 - val_loss: 0.4535 - val_accuracy: 0.7945\n",
      "Epoch 15/25\n",
      "250/250 [==============================] - 74s 296ms/step - loss: 0.3870 - accuracy: 0.8244 - val_loss: 0.4574 - val_accuracy: 0.7915\n",
      "Epoch 16/25\n",
      "250/250 [==============================] - 70s 281ms/step - loss: 0.3709 - accuracy: 0.8311 - val_loss: 0.4548 - val_accuracy: 0.7875\n",
      "Epoch 17/25\n",
      "250/250 [==============================] - 76s 305ms/step - loss: 0.3769 - accuracy: 0.8263 - val_loss: 0.4482 - val_accuracy: 0.7940\n",
      "Epoch 18/25\n",
      "250/250 [==============================] - 78s 311ms/step - loss: 0.3576 - accuracy: 0.8396 - val_loss: 0.4817 - val_accuracy: 0.7905\n",
      "Epoch 19/25\n",
      "250/250 [==============================] - 74s 295ms/step - loss: 0.3471 - accuracy: 0.8432 - val_loss: 0.4591 - val_accuracy: 0.8135\n",
      "Epoch 20/25\n",
      "250/250 [==============================] - 72s 287ms/step - loss: 0.3342 - accuracy: 0.8476 - val_loss: 0.4519 - val_accuracy: 0.8015\n",
      "Epoch 21/25\n",
      "250/250 [==============================] - 73s 293ms/step - loss: 0.3302 - accuracy: 0.8535 - val_loss: 0.4578 - val_accuracy: 0.8100\n",
      "Epoch 22/25\n",
      "250/250 [==============================] - 72s 287ms/step - loss: 0.3322 - accuracy: 0.8525 - val_loss: 0.4889 - val_accuracy: 0.8005\n",
      "Epoch 23/25\n",
      "250/250 [==============================] - 71s 282ms/step - loss: 0.3164 - accuracy: 0.8658 - val_loss: 0.4646 - val_accuracy: 0.8065\n",
      "Epoch 24/25\n",
      "250/250 [==============================] - 75s 299ms/step - loss: 0.3133 - accuracy: 0.8626 - val_loss: 0.4990 - val_accuracy: 0.7805\n",
      "Epoch 25/25\n",
      "250/250 [==============================] - 78s 312ms/step - loss: 0.2948 - accuracy: 0.8735 - val_loss: 0.5097 - val_accuracy: 0.7955\n"
     ]
    },
    {
     "data": {
      "text/plain": [
       "<tensorflow.python.keras.callbacks.History at 0x7fe7dd45d670>"
      ]
     },
     "execution_count": 17,
     "metadata": {},
     "output_type": "execute_result"
    }
   ],
   "source": [
    "#fit the model(CNN) on training_set and evaluate the test_set\n",
    "cnn.fit(x = training_set, validation_data = test_set, epochs = 25)"
   ]
  },
  {
   "cell_type": "code",
   "execution_count": 18,
   "metadata": {},
   "outputs": [
    {
     "name": "stdout",
     "output_type": "stream",
     "text": [
      "dog\n"
     ]
    }
   ],
   "source": [
    "#----------making a single prediction\n",
    "#(img size=target_size always haves to be the same!)\n",
    "import numpy as np\n",
    "from keras.preprocessing import image\n",
    "test_image = image.load_img('dataset/single_prediction/cat_or_dog_1.jpg', target_size = (64, 64))\n",
    "test_image = image.img_to_array(test_image)\n",
    "test_image = np.expand_dims(test_image, axis = 0)\n",
    "result = cnn.predict(test_image)\n",
    "#make 1 or 0\n",
    "training_set.class_indices\n",
    "if result[0][0] == 1:\n",
    "    prediction = 'dog'\n",
    "else:\n",
    "    prediction = 'cat'\n",
    "print(prediction)"
   ]
  }
 ],
 "metadata": {
  "kernelspec": {
   "display_name": "Python 3",
   "language": "python",
   "name": "python3"
  },
  "language_info": {
   "codemirror_mode": {
    "name": "ipython",
    "version": 3
   },
   "file_extension": ".py",
   "mimetype": "text/x-python",
   "name": "python",
   "nbconvert_exporter": "python",
   "pygments_lexer": "ipython3",
   "version": "3.8.3"
  }
 },
 "nbformat": 4,
 "nbformat_minor": 4
}
